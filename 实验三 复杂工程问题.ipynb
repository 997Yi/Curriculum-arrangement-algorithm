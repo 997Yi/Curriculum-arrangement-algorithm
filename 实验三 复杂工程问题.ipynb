{
 "cells": [
  {
   "cell_type": "markdown",
   "metadata": {},
   "source": [
    "# 实验三：有约束的极值求解\n"
   ]
  },
  {
   "cell_type": "markdown",
   "metadata": {},
   "source": [
    "## 实验目的"
   ]
  },
  {
   "cell_type": "markdown",
   "metadata": {},
   "source": [
    "(1)通过排课问题理解非线性规划问题;\n",
    "(2)熟悉有约束的极值求解方法；\n",
    "(3)了解排课算法优化算法；\n",
    "(4)熟悉list,dataFrame等数据结构\n",
    "(5)养成高质量代码编写习惯。"
   ]
  },
  {
   "cell_type": "markdown",
   "metadata": {},
   "source": [
    "## 实验要求："
   ]
  },
  {
   "cell_type": "markdown",
   "metadata": {},
   "source": [
    "\n",
    "（1）编码规范\n",
    "（2）代码高效\n",
    "（3）注释充分，程序可读性好\n",
    "（4）程序无bug\n",
    "（5）方法接口规范定义"
   ]
  },
  {
   "cell_type": "markdown",
   "metadata": {},
   "source": [
    "## 实验内容"
   ]
  },
  {
   "cell_type": "markdown",
   "metadata": {},
   "source": [
    "根据以下约束和排班原则进行排课算法设计\n",
    "(1)同一个任课教师在一个教学时间段只能进行一门课程教学\n",
    "(2)同一个班级在一个教学时间段只能进行一门课程教学\n",
    "(3)同一个教室在一个教学时间段只能进行一门课程教学\n",
    "(4)排课教室必须满足学生人数要求\n",
    "(5)一个教师每天不能超过6节课\n",
    "(6)每个学生班级每天不能超过8节课\n",
    "(7)每个教学班同一门课程每天不能超过2节课\n"
   ]
  },
  {
   "cell_type": "markdown",
   "metadata": {},
   "source": [
    "## 实验步骤"
   ]
  },
  {
   "cell_type": "markdown",
   "metadata": {},
   "source": [
    "## 1.算法设计"
   ]
  },
  {
   "cell_type": "markdown",
   "metadata": {},
   "source": [
    "算法流程图"
   ]
  },
  {
   "cell_type": "markdown",
   "metadata": {},
   "source": [
    "### 2.数据与处理"
   ]
  },
  {
   "cell_type": "markdown",
   "metadata": {},
   "source": [
    "对教学任务信息，教室信息，教师信息，教学班级信息进行处理，组织排课算法需要的各数据和排课结果表，并对相关变量进行初始化\n",
    "\n"
   ]
  },
  {
   "cell_type": "code",
   "execution_count": 15,
   "metadata": {},
   "outputs": [],
   "source": [
    "# -*- coding: utf-8 -*-\n"
   ]
  },
  {
   "cell_type": "markdown",
   "metadata": {},
   "source": [
    "### 3.算法实现"
   ]
  },
  {
   "cell_type": "markdown",
   "metadata": {},
   "source": [
    "按照最短教学时间原则进行排课"
   ]
  },
  {
   "cell_type": "code",
   "execution_count": 16,
   "metadata": {},
   "outputs": [],
   "source": [
    "#code"
   ]
  },
  {
   "cell_type": "markdown",
   "metadata": {},
   "source": [
    "### 4.算法优化"
   ]
  },
  {
   "cell_type": "markdown",
   "metadata": {},
   "source": [
    "本部分为选做：（1）可以使用蚁群算法等对排课算法进行优化，得到更优的排课方案；\n",
    "（2）合理设计算法模块，使程序支持多种排课原则，比如按最短教学时间优先，（2）课程任务分布均匀优先（3）教师要求优先"
   ]
  },
  {
   "cell_type": "code",
   "execution_count": 17,
   "metadata": {},
   "outputs": [],
   "source": [
    "#code"
   ]
  },
  {
   "cell_type": "markdown",
   "metadata": {},
   "source": [
    "### 5.结果输出"
   ]
  },
  {
   "cell_type": "markdown",
   "metadata": {},
   "source": [
    "(1)教师课表\n",
    "(2)学生班级课表\n",
    "(3)教师课表"
   ]
  },
  {
   "cell_type": "code",
   "execution_count": 18,
   "metadata": {},
   "outputs": [],
   "source": [
    "#结果显示"
   ]
  },
  {
   "cell_type": "markdown",
   "metadata": {},
   "source": [
    "## 实验总结"
   ]
  },
  {
   "cell_type": "code",
   "execution_count": 19,
   "metadata": {},
   "outputs": [],
   "source": [
    "#总结"
   ]
  }
 ],
 "metadata": {
  "kernelspec": {
   "display_name": "Python 3",
   "language": "python",
   "name": "python3"
  },
  "language_info": {
   "codemirror_mode": {
    "name": "ipython",
    "version": 3
   },
   "file_extension": ".py",
   "mimetype": "text/x-python",
   "name": "python",
   "nbconvert_exporter": "python",
   "pygments_lexer": "ipython3",
   "version": "3.7.0"
  }
 },
 "nbformat": 4,
 "nbformat_minor": 2
}
